{
 "cells": [
  {
   "cell_type": "markdown",
   "id": "70256ed1-7478-4805-ba06-ee40a3a45259",
   "metadata": {},
   "source": [
    "# RICH SNR (Signal-Noise Ratio) depending on DCR"
   ]
  },
  {
   "cell_type": "code",
   "execution_count": 1,
   "id": "69e4597c-d1b5-4b9b-9992-4b8bfdc632ff",
   "metadata": {
    "tags": []
   },
   "outputs": [],
   "source": [
    "import numpy as np\n",
    "import matplotlib.pylab as plt\n",
    "from scipy.optimize import curve_fit\n",
    "import pandas as pd"
   ]
  },
  {
   "cell_type": "code",
   "execution_count": 2,
   "id": "619d26fc-81cf-473b-a6be-33ff578a9d3b",
   "metadata": {
    "tags": []
   },
   "outputs": [],
   "source": [
    "# DCR, Crosstalk, Afterpulsing pixel model\n",
    "def Pixel (DCR, Pixel_size, Cross, After, W): # DCR(Hz/mm2), pixel size(mm2), Crosstalk(%), Afterpulsing(%), recording window(ns)\n",
    "\n",
    "    # Pulse shape\n",
    "    \n",
    "    Cj = 20e-12\n",
    "    Rs = 10\n",
    "    RQ = 50\n",
    "\n",
    "    t_pulse = np.linspace(0,10,10)*1e-9\n",
    "    N = len(t_pulse)\n",
    "    Pulse = np.zeros(N)\n",
    "\n",
    "    A = 1.1\n",
    "    t1 = 1e-9\n",
    "\n",
    "    for i in range (N):\n",
    "        if t_pulse[i] < t1:\n",
    "            Pulse[i] = A*(1-np.exp(-t_pulse[i]/(Rs*Cj)))\n",
    "        else:\n",
    "            Pulse[i] = A*np.exp((t1-t_pulse[i])/(RQ*Cj))\n",
    "        \n",
    "    DCR_pixel = DCR*Pixel_size\n",
    "    Tau = 1/DCR_pixel\n",
    "    F_after = After*DCR_pixel\n",
    "    Tau_after = 1/F_after\n",
    "\n",
    "    # Adding afterpulsing\n",
    "\n",
    "    DCR_impulses = np.zeros(W)\n",
    "    Cross_impulses = np.zeros(W)\n",
    "    After_impulses = np.zeros(W)\n",
    "    DCR_Cross_After_pulses = np.zeros(W)\n",
    "    index = 0\n",
    "\n",
    "    while index < W-N:\n",
    "        Rt = np.random.exponential(scale=Tau, size=None)*1e9\n",
    "        index = index + int(Rt)\n",
    "        if index >= W-N:\n",
    "            break\n",
    "            \n",
    "        if np.random.uniform() < Cross: # Crosstalk probability\n",
    "            Cross_impulses[index] = 2\n",
    "            DCR_Cross_After_pulses[index:index+N] = DCR_Cross_After_pulses[index:index+N] + 2*Pulse\n",
    "\n",
    "        else:\n",
    "            DCR_impulses[index] = 1\n",
    "            DCR_Cross_After_pulses[index:index+N] = DCR_Cross_After_pulses[index:index+N] + Pulse\n",
    "\n",
    "        if np.random.uniform() < After: # Afterpulse probability\n",
    "            Rt_after = int(np.random.exponential(scale=Tau_after, size=None)*1e9)\n",
    "\n",
    "            if index+Rt_after > W-N:\n",
    "                break\n",
    "            After_impulses[index+Rt_after] = 1\n",
    "            DCR_Cross_After_pulses[index+Rt_after:index+Rt_after+N] = DCR_Cross_After_pulses[index+Rt_after:index+Rt_after+N] + Pulse\n",
    "\n",
    "        \n",
    "    return DCR_Cross_After_pulses"
   ]
  },
  {
   "cell_type": "code",
   "execution_count": 3,
   "id": "aa76f98b-b166-4301-a447-77f493ad46af",
   "metadata": {
    "tags": []
   },
   "outputs": [],
   "source": [
    "def Noise(DCR, Pixel_size, Cross, After, W, T0, Window, M, N_pixel, P):\n",
    "    Noise_array = np.zeros((Nr*8,Nc*8))\n",
    "\n",
    "    C = 0\n",
    "    F = 0\n",
    "\n",
    "    for j in range(P):\n",
    "        for i in range(N_pixel):\n",
    "            Array_i[i,:] = Pixel(DCR, Pixel_size, Cross, After, W)\n",
    "\n",
    "        MPPC_i = np.zeros(N_pixel) \n",
    "\n",
    "        for i in range(N_pixel):\n",
    "            if np.max(Array_i[i,T0:T0+Window]) >= Trigger:\n",
    "                MPPC_i[i] = 1\n",
    "        MPPC = np.reshape(MPPC_i, (M, M))\n",
    "        Noise_array[F*8+0:F*8+8,C*8+0:C*8+8] = MPPC \n",
    "        C+=1\n",
    "        if C==P/Nr:\n",
    "            C=0\n",
    "            F+=1\n",
    "            \n",
    "    return Noise_array"
   ]
  },
  {
   "cell_type": "code",
   "execution_count": 4,
   "id": "5f17a992-10eb-4c1d-a2fc-6b57fde6128f",
   "metadata": {
    "tags": []
   },
   "outputs": [],
   "source": [
    "def Ring(Nr,Nc, r, Np_ring):\n",
    "    \n",
    "    Ring_array = np.zeros((Nr*8,Nc*8))\n",
    "\n",
    "    x0 = int(np.random.uniform(0, Nr*8))\n",
    "    y0 = int(np.random.uniform(0, Nc*8))\n",
    "\n",
    "    for i in range(Np_ring):\n",
    "\n",
    "        theta = np.random.uniform(0, 2*np.pi)\n",
    "\n",
    "        x = int(r*np.cos(theta))\n",
    "        y = int(r*np.sin(theta))\n",
    "        a = x + x0\n",
    "        b = y + y0\n",
    "\n",
    "        if a >= 0 and b >=0 and a < Nr*8 and b < Nc*8: # boundary conditions\n",
    "            Ring_array[a,b]= Ring_array[a,b] + 1\n",
    "            \n",
    "    return Ring_array"
   ]
  },
  {
   "cell_type": "markdown",
   "id": "6b15878e-27f8-4514-802e-3d1e35da2a65",
   "metadata": {},
   "source": [
    "## MPPC model"
   ]
  },
  {
   "cell_type": "code",
   "execution_count": 5,
   "id": "7acab90c-5cfd-4da2-b9d1-fa421326db01",
   "metadata": {
    "tags": []
   },
   "outputs": [],
   "source": [
    "M = 8 # M x M array szie\n",
    "N_pixel = M*M\n",
    "\n",
    "Pixel_size = 36 # mm2\n",
    "Cross = 0.25 # %\n",
    "After = 0.05 # %\n",
    "W = 100 # Recording window\n",
    "\n",
    "T0 = 45 # Detection time\n",
    "Window = 5\n",
    "\n",
    "Trigger = 0.5 # Trigger level"
   ]
  },
  {
   "cell_type": "code",
   "execution_count": 22,
   "id": "155245c2-27c6-4f25-b0cb-d2429276b953",
   "metadata": {
    "tags": []
   },
   "outputs": [
    {
     "name": "stderr",
     "output_type": "stream",
     "text": [
      "/tmp/ipykernel_1524/668964908.py:29: RuntimeWarning: divide by zero encountered in scalar divide\n",
      "  SNR[j] = 20*np.log10(np.sum(Ring_array)/np.sum(Noise_array))\n",
      "/tmp/ipykernel_1524/668964908.py:29: RuntimeWarning: divide by zero encountered in log10\n",
      "  SNR[j] = 20*np.log10(np.sum(Ring_array)/np.sum(Noise_array))\n"
     ]
    }
   ],
   "source": [
    "DCR = np.linspace(1,300,300)*1e3 # DCR values Hz/mm2\n",
    "SNR_mean = np.zeros(len(DCR))\n",
    "SNR_std = np.zeros(len(DCR))\n",
    "\n",
    "Array_i = np.zeros((N_pixel,W))\n",
    "Nr = 2  # Number rows\n",
    "Nc = 3  # Number of columns\n",
    "P = Nr*Nc # Number of MPPC\n",
    "\n",
    "r  = 6 # Cherenkov ring diameter, we can add radious variance\n",
    "Np_ring = 20 # Number of photons per ring  \n",
    "    \n",
    "samples = 100 # samples per DCR value\n",
    "\n",
    "\n",
    "for i in range(len(DCR)):\n",
    "    SNR = np.zeros(samples)\n",
    "    \n",
    "    for j in range(samples):\n",
    "        \n",
    "        # Noise generation\n",
    "\n",
    "        Noise_array = Noise(DCR[i], Pixel_size, Cross, After, W, T0, Window, M, N_pixel, P)\n",
    "\n",
    "        # Ring generation\n",
    "\n",
    "        Ring_array = Ring(Nr,Nc,r,Np_ring)\n",
    "\n",
    "        SNR[j] = 20*np.log10(np.sum(Ring_array)/np.sum(Noise_array))\n",
    "        \n",
    "    SNR_mean[i] = np.mean(SNR)\n",
    "    SNR_std[i] = np.std(SNR)"
   ]
  },
  {
   "cell_type": "code",
   "execution_count": 29,
   "id": "148a4e84-debe-4b6d-88dd-fbe28d127994",
   "metadata": {
    "tags": []
   },
   "outputs": [
    {
     "data": {
      "image/png": "[encoded data removed]",
      "text/plain": [
       "<Figure size 800x500 with 1 Axes>"
      ]
     },
     "metadata": {},
     "output_type": "display_data"
    }
   ],
   "source": [
    "plt.figure(figsize=(8, 5))\n",
    "plt.errorbar(DCR/1e3, SNR_mean, xerr=None, yerr=SNR_std,  fmt='o', color='k')\n",
    "plt.xlabel(\"DCR [kHz/mm$^2$]\", horizontalalignment='right', x=1.0, fontsize=15)\n",
    "plt.ylabel(\"SNR [dB]\", horizontalalignment='right', y=1.0, fontsize=15)\n",
    "\n",
    "#plt.savefig(\"Figures/SNR_20_Fine.eps\",bbox_inches='tight')"
   ]
  },
  {
   "cell_type": "code",
   "execution_count": null,
   "id": "2689d434-2c23-4d8f-860d-106d4af018a3",
   "metadata": {},
   "outputs": [],
   "source": []
  }
 ],
 "metadata": {
  "kernelspec": {
   "display_name": "Python 3 (ipykernel)",
   "language": "python",
   "name": "python3"
  },
  "language_info": {
   "codemirror_mode": {
    "name": "ipython",
    "version": 3
   },
   "file_extension": ".py",
   "mimetype": "text/x-python",
   "name": "python",
   "nbconvert_exporter": "python",
   "pygments_lexer": "ipython3",
   "version": "3.8.10"
  }
 },
 "nbformat": 4,
 "nbformat_minor": 5
}
